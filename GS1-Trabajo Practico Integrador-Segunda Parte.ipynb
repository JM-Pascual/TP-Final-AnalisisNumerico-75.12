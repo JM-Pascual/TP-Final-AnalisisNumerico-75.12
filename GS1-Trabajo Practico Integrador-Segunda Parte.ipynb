{
 "cells": [
  {
   "cell_type": "markdown",
   "id": "cbac6550",
   "metadata": {
    "slideshow": {
     "slide_type": "slide"
    }
   },
   "source": [
    "## **3. Interpolación**"
   ]
  },
  {
   "cell_type": "code",
   "execution_count": 82,
   "id": "69b26373",
   "metadata": {
    "slideshow": {
     "slide_type": "skip"
    }
   },
   "outputs": [],
   "source": [
    "import numpy as np\n",
    "import pandas as pd\n",
    "import matplotlib.pyplot as plt"
   ]
  },
  {
   "cell_type": "markdown",
   "id": "02d11fc4",
   "metadata": {
    "slideshow": {
     "slide_type": "slide"
    }
   },
   "source": [
    "Se conoce la presión de vapor del agua a las siguientes temperaturas: "
   ]
  },
  {
   "cell_type": "code",
   "execution_count": 83,
   "id": "78eaeecf",
   "metadata": {
    "slideshow": {
     "slide_type": "subslide"
    }
   },
   "outputs": [
    {
     "data": {
      "text/html": [
       "<div>\n",
       "<style scoped>\n",
       "    .dataframe tbody tr th:only-of-type {\n",
       "        vertical-align: middle;\n",
       "    }\n",
       "\n",
       "    .dataframe tbody tr th {\n",
       "        vertical-align: top;\n",
       "    }\n",
       "\n",
       "    .dataframe thead th {\n",
       "        text-align: right;\n",
       "    }\n",
       "</style>\n",
       "<table border=\"1\" class=\"dataframe\">\n",
       "  <thead>\n",
       "    <tr style=\"text-align: right;\">\n",
       "      <th></th>\n",
       "      <th>Presión de vapor [bar]</th>\n",
       "      <th>Temperatura [K]</th>\n",
       "    </tr>\n",
       "  </thead>\n",
       "  <tbody>\n",
       "    <tr>\n",
       "      <th>0</th>\n",
       "      <td>1</td>\n",
       "      <td>372.75</td>\n",
       "    </tr>\n",
       "    <tr>\n",
       "      <th>1</th>\n",
       "      <td>2</td>\n",
       "      <td>393.36</td>\n",
       "    </tr>\n",
       "    <tr>\n",
       "      <th>2</th>\n",
       "      <td>4</td>\n",
       "      <td>416.76</td>\n",
       "    </tr>\n",
       "    <tr>\n",
       "      <th>3</th>\n",
       "      <td>6</td>\n",
       "      <td>431.98</td>\n",
       "    </tr>\n",
       "    <tr>\n",
       "      <th>4</th>\n",
       "      <td>8</td>\n",
       "      <td>443.56</td>\n",
       "    </tr>\n",
       "    <tr>\n",
       "      <th>5</th>\n",
       "      <td>10</td>\n",
       "      <td>453.03</td>\n",
       "    </tr>\n",
       "  </tbody>\n",
       "</table>\n",
       "</div>"
      ],
      "text/plain": [
       "   Presión de vapor [bar]  Temperatura [K]\n",
       "0                       1           372.75\n",
       "1                       2           393.36\n",
       "2                       4           416.76\n",
       "3                       6           431.98\n",
       "4                       8           443.56\n",
       "5                      10           453.03"
      ]
     },
     "execution_count": 83,
     "metadata": {},
     "output_type": "execute_result"
    }
   ],
   "source": [
    "Agua = pd.Series(['Temperatura [°C]', 'Presión [bar]'])\n",
    "Temperatura_agua = pd.Series([99.6, 120.21, 143.61, 158.83, 170.41, 179.88])\n",
    "Presion_agua = pd.Series([1, 2, 4, 6, 8, 10])\n",
    "\n",
    "pd.DataFrame({'Presión de vapor [bar]': Presion_agua, 'Temperatura [K]': Temperatura_agua + 273.15})"
   ]
  },
  {
   "cell_type": "markdown",
   "id": "e255ae8a",
   "metadata": {
    "slideshow": {
     "slide_type": "subslide"
    }
   },
   "source": [
    "**3. Obtener la temperatura del agua a una presión de 3 bar. Elegir un método de interpolación, justificar su elección y graficar resultados.**"
   ]
  },
  {
   "cell_type": "markdown",
   "id": "f9b96d95",
   "metadata": {
    "slideshow": {
     "slide_type": "slide"
    }
   },
   "source": [
    "#### Ecuación general del método de Lagrange mejorado:\n",
    "\n",
    "$$ P_n(x)=\\sum^n_{i=0}f(x_i)\\frac{L(x)w_i}{x-x_i}=L(x)\\sum^n_{i=0}f(x_i)\\frac{w_i}{x-x_i},$$\n",
    "\n",
    "#### Ecuación del polinomio L (Cte dentro de la sumatoria):\n",
    "\n",
    "$$ L(x)=(x-x_0)(x-x_1)\\ldots(x-x_n)$$ \n",
    "\n",
    "#### Ecuación de los pesos baricéntricos:\n",
    "\n",
    "$$ w_i=\\prod^n_{\\substack{k=0 \\\\k\\neq i}}\\frac{1}{x_i-x_k}, \\text{  para todo  }i=0;1;\\ldots;n. $$ "
   ]
  },
  {
   "cell_type": "code",
   "execution_count": 84,
   "id": "c7bc8abd",
   "metadata": {
    "slideshow": {
     "slide_type": "slide"
    }
   },
   "outputs": [],
   "source": [
    "#Generamos un array llamado data que almacene la información provista por la consigna:\n",
    "data = [[1,372.75],[2,393.36],[4,416.76],[6,431.98],[8,443.56],[10,453.03]]\n",
    "#(x,y) = (P,T)"
   ]
  },
  {
   "cell_type": "code",
   "execution_count": 85,
   "id": "204b5917",
   "metadata": {
    "slideshow": {
     "slide_type": "slide"
    }
   },
   "outputs": [],
   "source": [
    "def lagrangeMejorado_GS1(x,data):\n",
    "    w_lista = []\n",
    "    l = 1\n",
    "    sumatoria = 0\n",
    "    for i in range(0, len(data)):\n",
    "        l *= (x - data[i][0])\n",
    "        w = 1\n",
    "        for j in range(0, len(data)):\n",
    "            if j != i:\n",
    "                w *= 1 / (data[i][0] - data[j][0])\n",
    "        w_lista.append(w)\n",
    "    for i in range(0,len(data)):\n",
    "        sumatoria += data[i][1] * (w_lista[i] / (x - data[i][0]))\n",
    "    return l * sumatoria"
   ]
  },
  {
   "cell_type": "code",
   "execution_count": 86,
   "id": "d4b2ea8a",
   "metadata": {
    "slideshow": {
     "slide_type": "skip"
    }
   },
   "outputs": [],
   "source": [
    "df = pd.DataFrame(data, columns = ['x', 'y'])"
   ]
  },
  {
   "cell_type": "code",
   "execution_count": 87,
   "id": "11301c57",
   "metadata": {
    "slideshow": {
     "slide_type": "slide"
    }
   },
   "outputs": [],
   "source": [
    "def LagrangeMejorado_práctica(x,df):\n",
    "    N=len(df)\n",
    "    W=np.zeros(N)\n",
    "    P=0\n",
    "    L=1\n",
    "    PB=0\n",
    "    for i in range (0,N):\n",
    "        if x==df['x'][i]:         #Para que no divida por cero .\n",
    "            return df['y'][i]\n",
    "        L*=x-df['x'][i] #Productoria que define a L\n",
    "        w=1\n",
    "        for j in range (0,N):\n",
    "            if j != i:\n",
    "                w*=1/(df['x'][i]-df['x'][j])\n",
    "        W[i]=w\n",
    "        P+=(w*df['y'][i])/(x-df['x'][i])\n",
    "    PB=L*P\n",
    "    return PB,L,W, print(\"El valor despejado de T[k] con el método programado en clase es: \",PB)"
   ]
  },
  {
   "cell_type": "code",
   "execution_count": 88,
   "id": "60faa419",
   "metadata": {
    "slideshow": {
     "slide_type": "slide"
    }
   },
   "outputs": [
    {
     "name": "stdout",
     "output_type": "stream",
     "text": [
      "El valor despejado de T[k] con el método programado en clase es:  424.8667410714287\n",
      "\n",
      "\n",
      "El valor despejado de T[k] con el método programado por el grupo es:  424.8667410714287\n"
     ]
    }
   ],
   "source": [
    "#Cálculo del valor de T[K] con la función vista en la clase práctica.\n",
    "x = 5\n",
    "LagrangeMejorado_práctica(x,df)\n",
    "#-------------------------------------------------------------------------------------------------------------------------#\n",
    "print(\"\\n\")\n",
    "#-------------------------------------------------------------------------------------------------------------------------#\n",
    "#Cálculo del valor de T[K] con la función programada por el grupo.\n",
    "t = lagrangeMejorado_GS1(x,data)\n",
    "print(\"El valor despejado de T[k] con el método programado por el grupo es: \",t)"
   ]
  },
  {
   "cell_type": "code",
   "execution_count": 89,
   "id": "b595f3ba",
   "metadata": {
    "slideshow": {
     "slide_type": "slide"
    }
   },
   "outputs": [
    {
     "data": {
      "text/plain": [
       "Text(0.5, 1.0, 'Grafico Lagrange(mejorado)')"
      ]
     },
     "execution_count": 89,
     "metadata": {},
     "output_type": "execute_result"
    },
    {
     "data": {
      "image/png": "[encoded data removed]",
      "text/plain": [
       "<Figure size 432x288 with 1 Axes>"
      ]
     },
     "metadata": {
      "needs_background": "light"
     },
     "output_type": "display_data"
    }
   ],
   "source": [
    "# Ploteo hecho por el grupo\n",
    "\n",
    "plt.xlabel(\"Presion [BAR]\")\n",
    "plt.ylabel(\"Temperatura Agua [°C]\")\n",
    "\n",
    "ejeX = np.linspace(0, 12, 500)\n",
    "ejeY = []\n",
    "for xi in ejeX:\n",
    "    ejeY.append(lagrangeMejorado_GS1(xi, data))\n",
    "\n",
    "plt.plot(ejeX, ejeY, linewidth = 2, color = \"green\")\n",
    "plt.scatter(3, lagrangeMejorado_GS1(3, data))\n",
    "plt.axvline(1, linewidth=2, color='blue',linestyle='dashed')\n",
    "plt.axvline(10, linewidth=2, color='blue',linestyle='dashed')\n",
    "plt.legend([\"Lagrange (mejorado)\", \"1\", \"10\", \"Valor especifico en 3\"], fontsize = 10)\n",
    "plt.title(\"Grafico Lagrange(mejorado)\")"
   ]
  },
  {
   "cell_type": "markdown",
   "id": "6a7c1f33",
   "metadata": {
    "slideshow": {
     "slide_type": "slide"
    }
   },
   "source": [
    "## **Integración numérica**"
   ]
  },
  {
   "cell_type": "markdown",
   "id": "33a2a8c6",
   "metadata": {
    "slideshow": {
     "slide_type": "subslide"
    }
   },
   "source": [
    "La corriente metanol-agua (F1) debe ser precalentada previo al ingreso del tanque de mezclado. Para ello se utiliza vapor de agua. El intercambio calórico se lleva a cabo en un intercambiador de tubos concéntricos. <br>\n",
    "La longitud del equipo está dada por la siguiente ecuación: $L = \\frac{m}{D\\pi}\\int_{T_1}^{T} \\frac {Cp(T)}{h(T_s-T)}\\,dT$<br>\n",
    "Siendo: <br>m: caudal másico<br>D: diámetro del tubo<br>\n",
    "h: coeficiente de transferencia de calor<br>\n",
    "Ts: temperatura del vapor de agua<br>\n",
    "Cp: calor específico<br><br>\n",
    "\n",
    "$h = \\alpha(kCp)^{0.33}$<br><br>\n",
    "El calor específico está dado por la siguiente expresión:<br>\n",
    "$Cp(T) = aT^3+bT^2+cT+d$  "
   ]
  },
  {
   "cell_type": "code",
   "execution_count": 90,
   "id": "8f0a3dc4",
   "metadata": {
    "slideshow": {
     "slide_type": "subslide"
    }
   },
   "outputs": [],
   "source": [
    "#DATOS DEL PROBLEMA \n",
    "diametro = 0.08 #m Diámetro del tubo\n",
    "tEntrada = 5 #°C Temperatura de ingreso de la corriente F1\n",
    "tSalida = 15 #°C Temperatura de salida de la corriente F1\n",
    "\n",
    "#Coeficientes para h \n",
    "kappa = 0.0086\n",
    "alpha = 3630.4\n",
    "\n",
    "#Coeficientes del Cp para la corriente F1\n",
    "a = 0.00000006\n",
    "b = 0.000006\n",
    "c = 0.0008\n",
    "d = 0.05806\n",
    "\n",
    "#Información del vapor de agua\n",
    "Presion_vapor = 3 #bar (Del ejercicio 3, se saca que la temperatura del agua es:)\n",
    "temperaturaAgua = 424.8667410714287\n",
    "caudalMasicoF1 = 56000 # kg/h (Del ejercicio 1)"
   ]
  },
  {
   "cell_type": "code",
   "execution_count": 91,
   "id": "6f13e1c8",
   "metadata": {
    "slideshow": {
     "slide_type": "slide"
    }
   },
   "outputs": [],
   "source": [
    "#Funciones que se van a utilizar\n",
    "def cp(t):\n",
    "    return ((a * t**3) + (b * t**2) + (c * t) + d)\n",
    "\n",
    "def h(t):\n",
    "    return (alpha * (kappa * cp(t))**0.33) \n",
    "\n",
    "def f(t):\n",
    "    return (cp(t) / h(temperaturaAgua - t))"
   ]
  },
  {
   "cell_type": "code",
   "execution_count": 92,
   "id": "e72f814f",
   "metadata": {
    "slideshow": {
     "slide_type": "skip"
    }
   },
   "outputs": [],
   "source": [
    "#Metodo de Simpson Compuesto hecho por el grupo---------------------------------------------------------------------------#"
   ]
  },
  {
   "cell_type": "code",
   "execution_count": 93,
   "id": "1de98113",
   "metadata": {
    "slideshow": {
     "slide_type": "slide"
    }
   },
   "outputs": [],
   "source": [
    "def simpsonCompuesto_GS1(tEntrada,tSalida,n):\n",
    "    paso = (tSalida-tEntrada) / (2*n)\n",
    "    sc = (1/3) * paso * f(tEntrada) + (1/3)* paso *f(tSalida)\n",
    "    for i in range(1, 2*n):\n",
    "        if i % 2 == 0:\n",
    "            sc += (2/3)* paso *f(tEntrada + i * paso)\n",
    "        if i % 2 != 0:\n",
    "            sc += (4/3)* paso *f(tEntrada + i * paso)\n",
    "    return sc"
   ]
  },
  {
   "cell_type": "code",
   "execution_count": 94,
   "id": "212bdd52",
   "metadata": {
    "slideshow": {
     "slide_type": "fragment"
    }
   },
   "outputs": [
    {
     "name": "stdout",
     "output_type": "stream",
     "text": [
      "la integracion mediante GS1-Simpson Compuesto es:  0.0004975672392314942\n",
      "y el resultado es:  110.86639990199188\n"
     ]
    }
   ],
   "source": [
    "print(\"la integracion mediante GS1-Simpson Compuesto es: \", simpsonCompuesto_GS1(5, 15, 1000))\n",
    "print(\"y el resultado es: \", (caudalMasicoF1 / (diametro*np.pi)) * simpsonCompuesto_GS1(5, 15, 1000))"
   ]
  },
  {
   "cell_type": "code",
   "execution_count": 95,
   "id": "8a429c61",
   "metadata": {
    "slideshow": {
     "slide_type": "slide"
    }
   },
   "outputs": [],
   "source": [
    "#Optimización del método de Simpson compuesto mediante el uso de booleans en reemplazo del operador \" % \""
   ]
  },
  {
   "cell_type": "code",
   "execution_count": 96,
   "id": "dc6de62d",
   "metadata": {
    "slideshow": {
     "slide_type": "fragment"
    }
   },
   "outputs": [],
   "source": [
    "def simpsonCompuesto_GS1_optimizado(tEntrada,tSalida,n):\n",
    "    par = False\n",
    "    paso = (tSalida-tEntrada) / (2*n)\n",
    "    sc = (1/3) * paso * f(tEntrada) + (1/3)* paso *f(tSalida)\n",
    "    for i in range(1, 2*n):\n",
    "        if(par):\n",
    "            sc += (2/3)* paso *f(tEntrada + i * paso)\n",
    "            par = False\n",
    "        else:\n",
    "            sc += (4/3)* paso *f(tEntrada + i * paso)\n",
    "            par = True\n",
    "    return sc"
   ]
  },
  {
   "cell_type": "code",
   "execution_count": 97,
   "id": "575c4d3b",
   "metadata": {
    "slideshow": {
     "slide_type": "fragment"
    }
   },
   "outputs": [
    {
     "name": "stdout",
     "output_type": "stream",
     "text": [
      "la integracion mediante GS1-Simpson Compuesto es:  0.0004975672392314942\n",
      "y el resultado es:  110.86639990199188\n"
     ]
    }
   ],
   "source": [
    "print(\"la integracion mediante GS1-Simpson Compuesto es: \", simpsonCompuesto_GS1_optimizado(5, 15, 1000))\n",
    "print(\"y el resultado es: \", (caudalMasicoF1 / (diametro*np.pi)) * simpsonCompuesto_GS1_optimizado(5, 15, 1000))"
   ]
  },
  {
   "cell_type": "code",
   "execution_count": 98,
   "id": "0e6ac8be",
   "metadata": {
    "slideshow": {
     "slide_type": "skip"
    }
   },
   "outputs": [],
   "source": [
    "#Cuadratura de Gauss-Legendre---------------------------------------------------------------------------------------------#"
   ]
  },
  {
   "cell_type": "code",
   "execution_count": 99,
   "id": "b6c4738d",
   "metadata": {
    "slideshow": {
     "slide_type": "slide"
    }
   },
   "outputs": [],
   "source": [
    "def gaussLegendre(tMax, tMin, f, n):\n",
    "    resultado = 0 \n",
    "    sumatoria = 0\n",
    "    ti, ci = np.polynomial.legendre.leggauss(n)\n",
    "    for i in range (0, n):\n",
    "        tActual = ((tMax - tMin) / 2) * ti[i] + ((tMin + tMax) / 2)\n",
    "        sumatoria += ci[i] * (f(tActual))\n",
    "    resultado = ((tMax-tMin)/2) * sumatoria \n",
    "    return resultado"
   ]
  },
  {
   "cell_type": "code",
   "execution_count": 100,
   "id": "af61314c",
   "metadata": {
    "slideshow": {
     "slide_type": "fragment"
    }
   },
   "outputs": [
    {
     "name": "stdout",
     "output_type": "stream",
     "text": [
      "La integracion mediante Gauss Legendre es:  0.0004975672392314943\n",
      "y el resultado es:  110.86639990199191\n"
     ]
    }
   ],
   "source": [
    "print(\"La integracion mediante Gauss Legendre es: \", gaussLegendre(15, 5, f, 10))\n",
    "print(\"y el resultado es: \", (caudalMasicoF1 / (diametro * np.pi)) * gaussLegendre(15, 5, f, 10))"
   ]
  },
  {
   "cell_type": "code",
   "execution_count": 101,
   "id": "1706f7e5",
   "metadata": {
    "slideshow": {
     "slide_type": "skip"
    }
   },
   "outputs": [],
   "source": [
    "# Funcion prueba (for debugging) -----------------------------------------------------------------------------------------#"
   ]
  },
  {
   "cell_type": "code",
   "execution_count": 102,
   "id": "f5d8a33c",
   "metadata": {
    "slideshow": {
     "slide_type": "skip"
    }
   },
   "outputs": [],
   "source": [
    "#def Gauss2(tMax, tMin, f,cp, h, a, b, c, d, alpha, k, n ): #Viejo, antes de prolijar.\n",
    "#    resultado=0 \n",
    "#    sumatoria=0\n",
    "#    ci, ti= np.polynomial.legendre.leggauss(n)\n",
    "#    for i in range (0, n):\n",
    "#        tActual= ((tMax-tMin)/n) * ti[i] + (tMin+tMax)/n\n",
    "#        #print(((tMax-tMin)/n) * ti[i])\n",
    "#        #print ((tMin+tMax)/n)\n",
    "#        #print (tActual)\n",
    "#        sumatoria+= ci[i] * (f(cp, h, a, b, c, d, alpha, k, tActual))\n",
    "#        #print(sumatoria)\n",
    "#        #print(f(cp, h, a, b, c, d, alpha, k, tActual))\n",
    "#        \n",
    "#        \n",
    "#    resultado= ((tMax-tMin)/n) * sumatoria \n",
    "#    return resultado"
   ]
  },
  {
   "cell_type": "code",
   "execution_count": 103,
   "id": "fb5a7360",
   "metadata": {
    "slideshow": {
     "slide_type": "skip"
    }
   },
   "outputs": [],
   "source": [
    "#print(\"la integracion mediante Gauss Legendre es: \", Gauss2(15, 5, f,cp, h, a, b, c, d, alpha, k, 4))"
   ]
  },
  {
   "cell_type": "code",
   "execution_count": 104,
   "id": "e82df942",
   "metadata": {
    "slideshow": {
     "slide_type": "skip"
    }
   },
   "outputs": [],
   "source": [
    "#PRUEBA CON OTROS METODOS DE LA CATEDRA-----------------------------------------------------------------------------------#"
   ]
  },
  {
   "cell_type": "markdown",
   "id": "a2090bbf",
   "metadata": {
    "slideshow": {
     "slide_type": "slide"
    }
   },
   "source": [
    "# Comprobacion con otros metodos, programados por la catedra."
   ]
  },
  {
   "cell_type": "code",
   "execution_count": 105,
   "id": "51a7d73b",
   "metadata": {
    "slideshow": {
     "slide_type": "slide"
    }
   },
   "outputs": [],
   "source": [
    "def PuntoMedioC(A,B,n):\n",
    "    H = (B-A) / n  \n",
    "    Q = 0\n",
    "    for i in range (0,n):\n",
    "        Q += H * f(A+i*H+H/2)\n",
    "    return Q\n",
    "    \n",
    "def q(x,A,B):\n",
    "    H = B-A\n",
    "    return f(A+H/2)*x/x"
   ]
  },
  {
   "cell_type": "code",
   "execution_count": 106,
   "id": "1db03385",
   "metadata": {
    "slideshow": {
     "slide_type": "fragment"
    }
   },
   "outputs": [
    {
     "name": "stdout",
     "output_type": "stream",
     "text": [
      "la integracion mediante Punto medio compuesto es:  0.000497567238604696\n",
      "y el resultado es:  110.86639976233064\n"
     ]
    }
   ],
   "source": [
    "print(\"la integracion mediante Punto medio compuesto es: \", PuntoMedioC(5, 15, 1000))\n",
    "print(\"y el resultado es: \", (caudalMasicoF1 / (diametro*np.pi)) * PuntoMedioC(5, 15, 1000))"
   ]
  },
  {
   "cell_type": "code",
   "execution_count": 107,
   "id": "f7cf46cd",
   "metadata": {
    "slideshow": {
     "slide_type": "slide"
    }
   },
   "outputs": [],
   "source": [
    "def TrapecioC(A,B,n):\n",
    "    H = (B-A) / n\n",
    "    Q = (H/2) * f(A)     \n",
    "    for i in range (1,n):\n",
    "        Q += H * f(A+i*H) \n",
    "    Q += (H/2) * f(B)\n",
    "    return Q\n",
    "    \n",
    "def q(x,a,b):\n",
    "    H = B-A\n",
    "    F01 = (f(B) - f(A)) / H \n",
    "    return f(A) + F01 * (x-A)"
   ]
  },
  {
   "cell_type": "code",
   "execution_count": 108,
   "id": "be03cfbb",
   "metadata": {
    "slideshow": {
     "slide_type": "fragment"
    }
   },
   "outputs": [
    {
     "name": "stdout",
     "output_type": "stream",
     "text": [
      "la integracion mediante trapecios compuestos es:  0.0004975672404850919\n",
      "y el resultado es:  110.86640018131467\n"
     ]
    }
   ],
   "source": [
    "print(\"la integracion mediante trapecios compuestos es: \", TrapecioC(5, 15, 1000))\n",
    "print(\"y el resultado es: \", (caudalMasicoF1 / (diametro*np.pi)) * TrapecioC(5, 15, 1000))"
   ]
  },
  {
   "cell_type": "code",
   "execution_count": 109,
   "id": "14507b59",
   "metadata": {
    "slideshow": {
     "slide_type": "slide"
    }
   },
   "outputs": [],
   "source": [
    "def gaussLegendreCatedra (a0,b0,n):\n",
    "    H = (b0-a0)/n\n",
    "    Q = 0\n",
    "    ti, ci= np.polynomial.legendre.leggauss(n)\n",
    "    for j in range (0,n):\n",
    "        A = a0 + H*j\n",
    "        B = A + H\n",
    "        q = 0\n",
    "        for i in range (len(ti)):\n",
    "            xi = (B+A)/2 + H*ti[i]/2\n",
    "            q += ci[i] * f(xi)\n",
    "        Q += H*q/2\n",
    "    return (Q)"
   ]
  },
  {
   "cell_type": "code",
   "execution_count": 110,
   "id": "1c78f7c8",
   "metadata": {
    "slideshow": {
     "slide_type": "fragment"
    }
   },
   "outputs": [
    {
     "name": "stdout",
     "output_type": "stream",
     "text": [
      "la integracion mediante Gauss Legendre es:  0.0004975672392314944\n",
      "y el resultado es:  110.86639990199194\n"
     ]
    }
   ],
   "source": [
    "print(\"la integracion mediante Gauss Legendre es: \", gaussLegendreCatedra(5, 15, 100))\n",
    "print(\"y el resultado es: \", (caudalMasicoF1 / (diametro*np.pi)) * gaussLegendreCatedra(5, 15, 100))"
   ]
  },
  {
   "cell_type": "code",
   "execution_count": 111,
   "id": "7f37b2a7",
   "metadata": {
    "slideshow": {
     "slide_type": "skip"
    }
   },
   "outputs": [],
   "source": [
    "#-------------------------------------------------------------------------------------------------------------------------#"
   ]
  }
 ],
 "metadata": {
  "celltoolbar": "Slideshow",
  "kernelspec": {
   "display_name": "Python 3",
   "language": "python",
   "name": "python3"
  },
  "language_info": {
   "codemirror_mode": {
    "name": "ipython",
    "version": 3
   },
   "file_extension": ".py",
   "mimetype": "text/x-python",
   "name": "python",
   "nbconvert_exporter": "python",
   "pygments_lexer": "ipython3",
   "version": "3.8.8"
  }
 },
 "nbformat": 4,
 "nbformat_minor": 5
}
